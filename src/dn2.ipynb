{
 "cells": [
  {
   "cell_type": "code",
   "execution_count": 1,
   "metadata": {},
   "outputs": [
    {
     "name": "stderr",
     "output_type": "stream",
     "text": [
      "/home/ksuga/fiveprime/.venv/lib/python3.6/site-packages/tqdm/auto.py:22: TqdmWarning: IProgress not found. Please update jupyter and ipywidgets. See https://ipywidgets.readthedocs.io/en/stable/user_install.html\n",
      "  from .autonotebook import tqdm as notebook_tqdm\n"
     ]
    }
   ],
   "source": [
    "import os\n",
    "import sys \n",
    "import glob \n",
    "\n",
    "import numpy as np\n",
    "import pandas as pd\n",
    "from PIL import Image\n",
    "from tqdm import tqdm\n",
    "import matplotlib.pyplot as plt\n",
    "\n",
    "import torch \n",
    "import torch.nn as nn \n",
    "import torch.utils.data as data\n",
    "from torchvision import models,transforms"
   ]
  },
  {
   "cell_type": "code",
   "execution_count": 2,
   "metadata": {},
   "outputs": [
    {
     "name": "stdout",
     "output_type": "stream",
     "text": [
      "[0 1] [50 50]\n",
      "[0] [200]\n"
     ]
    }
   ],
   "source": [
    "labels = pd.read_csv(\"train_label.csv\",index_col=0)\n",
    "val = labels.iloc[:100]\n",
    "train = labels.iloc[100:]\n",
    "\n",
    "u,c = np.unique(val[\"label\"].values,return_counts=True)\n",
    "print(u,c)\n",
    "u,c = np.unique(train[\"label\"].values,return_counts=True)\n",
    "print(u,c)"
   ]
  },
  {
   "cell_type": "code",
   "execution_count": 3,
   "metadata": {},
   "outputs": [],
   "source": [
    "class Dataset(data.Dataset):\n",
    "\n",
    "    def __init__(self,data,transform=None):\n",
    "        self.dataset=data # [path,label]のpdDF\n",
    "        self.transform = transform\n",
    "        \n",
    "    def __len__(self):\n",
    "        return self.dataset.shape[0]\n",
    "    \n",
    "    def __getitem__(self,idx):\n",
    "        \n",
    "        img = Image.open(self.dataset.iloc[idx][\"path\"])\n",
    "        img = img.convert(\"RGB\")\n",
    "        #img = cv2.imread(self.dataset.iloc[idx][\"path\"])\n",
    "        img = self.transform(img)\n",
    "        \n",
    "\n",
    "        return img,self.dataset.iloc[idx][\"label\"]\n",
    "\n",
    "transform = transforms.Compose([\n",
    "    transforms.Resize(224),\n",
    "    transforms.CenterCrop(224),\n",
    "    transforms.ToTensor(),\n",
    "])\n",
    "\n",
    "train_dataset = Dataset(train,transform)\n",
    "val_dataset = Dataset(val,transform)\n",
    "\n",
    "train_loader = torch.utils.data.DataLoader(train_dataset,batch_size=8,shuffle=True,num_workers=2)\n",
    "val_loader = torch.utils.data.DataLoader(val_dataset,batch_size=1,shuffle=False,num_workers=2)\n",
    "\n",
    "dataset_dict = {\"train\":train_dataset,\"test\":val_dataset}\n",
    "dataloaders_dict = {\"train\":train_loader,\"test\":val_loader}\n"
   ]
  },
  {
   "cell_type": "code",
   "execution_count": 12,
   "metadata": {},
   "outputs": [
    {
     "name": "stdout",
     "output_type": "stream",
     "text": [
      "Loaded pretrained weights for efficientnet-b7\n"
     ]
    }
   ],
   "source": [
    "\"\"\"\n",
    "model = models.resnet50(pretrained=True)\n",
    "model.fc = nn.Identity()\n",
    "\n",
    "device =  torch.device(\"cuda\" if torch.cuda.is_available() else \"cpu\")\n",
    "model = model.to(device)\n",
    "model = nn.DataParallel(model)\n",
    "\"\"\"\n",
    "from efficientnet_pytorch import EfficientNet\n",
    "device =  torch.device(\"cuda\" if torch.cuda.is_available() else \"cpu\")\n",
    "model = EfficientNet.from_pretrained(\"efficientnet-b7\").to(device)\n",
    "model = nn.DataParallel(model)\n",
    "\n"
   ]
  },
  {
   "cell_type": "code",
   "execution_count": 13,
   "metadata": {},
   "outputs": [
    {
     "name": "stderr",
     "output_type": "stream",
     "text": [
      "100%|██████████| 25/25 [00:09<00:00,  2.69it/s]\n"
     ]
    }
   ],
   "source": [
    "train_features=[]\n",
    "for input,_ in tqdm(train_loader):\n",
    "    input = input.to(device)\n",
    "    output = model(input)\n",
    "    train_features.extend(output.detach().cpu())\n",
    "\n",
    "tf_tensor = torch.cat(train_features).reshape(len(train_features),*train_features[0].shape)\n"
   ]
  },
  {
   "cell_type": "code",
   "execution_count": 15,
   "metadata": {},
   "outputs": [],
   "source": [
    "k=2\n",
    "val_labels = []\n",
    "d_scores = [] \n",
    "val_features=[]\n",
    "for input,l in val_dataset:\n",
    "    input = torch.unsqueeze(input,0).to(device) # 1,3,224,224\n",
    "    output = model(input).detach().cpu()\n",
    "    val_features.extend(output)\n",
    "    dist = torch.cdist(tf_tensor,output,p=2)\n",
    "    dist = dist.numpy().reshape(-1)\n",
    "    near_args = dist.argsort()[:k]\n",
    "    tmp_score = np.average(dist[near_args]**2)\n",
    "\n",
    "    val_labels.append(l)\n",
    "    d_scores.append(tmp_score)\n",
    "    \n"
   ]
  },
  {
   "cell_type": "code",
   "execution_count": 18,
   "metadata": {},
   "outputs": [
    {
     "data": {
      "image/png": "[encoded data removed]",
      "text/plain": [
       "<Figure size 432x288 with 1 Axes>"
      ]
     },
     "metadata": {
      "needs_background": "light"
     },
     "output_type": "display_data"
    }
   ],
   "source": [
    "import matplotlib.pyplot as plt\n",
    "plt.hist(d_scores[:50],bins=30,color=\"r\",label=\"anomaly\")\n",
    "plt.hist(d_scores[50:],bins=30,color=\"b\",alpha=0.5,label=\"good\")\n",
    "plt.legend()\n",
    "plt.title(\"anomaly score distribution\",fontsize=14)\n",
    "plt.xlabel(\"anomaly score\",fontsize=12)\n",
    "plt.ylabel(\"# of samples\",fontsize=12)\n",
    "plt.grid(axis=\"y\")\n",
    "plt.savefig(\"dn2_efficientnet_scoredist\")\n"
   ]
  },
  {
   "cell_type": "markdown",
   "metadata": {},
   "source": [
    "## PCA"
   ]
  },
  {
   "cell_type": "code",
   "execution_count": 182,
   "metadata": {},
   "outputs": [],
   "source": [
    "from sklearn.decomposition import PCA\n",
    "numpy_feature = tf_tensor.numpy()"
   ]
  },
  {
   "cell_type": "code",
   "execution_count": 196,
   "metadata": {},
   "outputs": [
    {
     "data": {
      "text/plain": [
       "PCA(copy=True, iterated_power='auto', n_components=2, random_state=None,\n",
       "    svd_solver='auto', tol=0.0, whiten=False)"
      ]
     },
     "execution_count": 196,
     "metadata": {},
     "output_type": "execute_result"
    }
   ],
   "source": [
    "pca = PCA(n_components=2)\n",
    "pca.fit(numpy_feature)"
   ]
  },
  {
   "cell_type": "code",
   "execution_count": 198,
   "metadata": {},
   "outputs": [],
   "source": [
    "valf_numpy = torch.cat(val_features).reshape(len(val_features),*val_features[0].shape).numpy()"
   ]
  },
  {
   "cell_type": "code",
   "execution_count": 205,
   "metadata": {},
   "outputs": [
    {
     "data": {
      "text/plain": [
       "<matplotlib.collections.PathCollection at 0x7fed449d1400>"
      ]
     },
     "execution_count": 205,
     "metadata": {},
     "output_type": "execute_result"
    },
    {
     "data": {
      "image/png": "[encoded data removed]",
      "text/plain": [
       "<Figure size 432x288 with 1 Axes>"
      ]
     },
     "metadata": {
      "needs_background": "light"
     },
     "output_type": "display_data"
    }
   ],
   "source": [
    "anom = pca.transform(valf_numpy[:50])\n",
    "nom = pca.transform(valf_numpy[50:])\n",
    "\n",
    "plt.scatter(anom[:,0],anom[:,1],color=\"r\")\n",
    "plt.scatter(nom[:,0],nom[:,1],color=\"b\")"
   ]
  },
  {
   "cell_type": "code",
   "execution_count": 207,
   "metadata": {},
   "outputs": [],
   "source": [
    "import umap"
   ]
  },
  {
   "cell_type": "code",
   "execution_count": 212,
   "metadata": {},
   "outputs": [],
   "source": [
    "decom = umap.UMAP(random_state=0)\n",
    "decom.fit(numpy_feature)\n",
    "emb = decom.transform(valf_numpy)\n"
   ]
  },
  {
   "cell_type": "code",
   "execution_count": 213,
   "metadata": {},
   "outputs": [
    {
     "data": {
      "text/plain": [
       "<matplotlib.collections.PathCollection at 0x7fe9d46cb668>"
      ]
     },
     "execution_count": 213,
     "metadata": {},
     "output_type": "execute_result"
    },
    {
     "data": {
      "image/png": "[encoded data removed]",
      "text/plain": [
       "<Figure size 432x288 with 1 Axes>"
      ]
     },
     "metadata": {
      "needs_background": "light"
     },
     "output_type": "display_data"
    }
   ],
   "source": [
    "plt.scatter(emb[:50,0],emb[:50,1],color=\"r\")\n",
    "plt.scatter(emb[50:,0],emb[50:,1],color=\"b\")"
   ]
  },
  {
   "cell_type": "code",
   "execution_count": null,
   "metadata": {},
   "outputs": [],
   "source": []
  }
 ],
 "metadata": {
  "kernelspec": {
   "display_name": "Python 3.6.9 ('.venv': pipenv)",
   "language": "python",
   "name": "python3"
  },
  "language_info": {
   "codemirror_mode": {
    "name": "ipython",
    "version": 3
   },
   "file_extension": ".py",
   "mimetype": "text/x-python",
   "name": "python",
   "nbconvert_exporter": "python",
   "pygments_lexer": "ipython3",
   "version": "3.6.9"
  },
  "orig_nbformat": 4,
  "vscode": {
   "interpreter": {
    "hash": "0a39d6fb204c0120033f9cf2f5125cb4455b59ae42aed07a7dfdaf3f1d3d8c11"
   }
  }
 },
 "nbformat": 4,
 "nbformat_minor": 2
}
