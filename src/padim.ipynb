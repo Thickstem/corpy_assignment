{
 "cells": [
  {
   "cell_type": "code",
   "execution_count": 1,
   "metadata": {},
   "outputs": [
    {
     "name": "stderr",
     "output_type": "stream",
     "text": [
      "/home/ksuga/fiveprime/.venv/lib/python3.6/site-packages/tqdm/auto.py:22: TqdmWarning: IProgress not found. Please update jupyter and ipywidgets. See https://ipywidgets.readthedocs.io/en/stable/user_install.html\n",
      "  from .autonotebook import tqdm as notebook_tqdm\n"
     ]
    }
   ],
   "source": [
    "import random\n",
    "from random import sample\n",
    "import argparse\n",
    "import numpy as np\n",
    "import pandas as pd\n",
    "import os\n",
    "import pickle\n",
    "from tqdm import tqdm\n",
    "from PIL import Image\n",
    "from collections import OrderedDict\n",
    "from sklearn.metrics import roc_auc_score\n",
    "from sklearn.metrics import roc_curve\n",
    "from sklearn.metrics import precision_recall_curve\n",
    "from sklearn.covariance import LedoitWolf\n",
    "from scipy.spatial.distance import mahalanobis\n",
    "from scipy.ndimage import gaussian_filter\n",
    "#from skimage import morphology\n",
    "#from skimage.segmentation import mark_boundaries\n",
    "import matplotlib.pyplot as plt\n",
    "import matplotlib\n",
    "\n",
    "import torch\n",
    "import torch.nn.functional as F\n",
    "import torch.utils.data as data\n",
    "from torch.utils.data import DataLoader\n",
    "from torchvision import transforms\n",
    "from torchvision.models import wide_resnet50_2, resnet18\n",
    "#import datasets.mvtec as mvtec\n",
    "\n",
    "\n",
    "random.seed(1024)\n",
    "torch.manual_seed(1024)\n",
    "torch.cuda.manual_seed_all(1024)"
   ]
  },
  {
   "cell_type": "code",
   "execution_count": 2,
   "metadata": {},
   "outputs": [],
   "source": [
    "def embedding_concat(x, y):\n",
    "    B, C1, H1, W1 = x.size()\n",
    "    _, C2, H2, W2 = y.size()\n",
    "    s = int(H1 / H2)\n",
    "    x = F.unfold(x, kernel_size=s, dilation=1, stride=s)\n",
    "    x = x.view(B, C1, -1, H2, W2)\n",
    "    z = torch.zeros(B, C1 + C2, x.size(2), H2, W2)\n",
    "    for i in range(x.size(2)):\n",
    "        z[:, :, i, :, :] = torch.cat((x[:, :, i, :, :], y), 1)\n",
    "    z = z.view(B, -1, H2 * W2)\n",
    "    z = F.fold(z, kernel_size=s, output_size=(H1, W1), stride=s)\n",
    "\n",
    "    return z\n",
    "\n"
   ]
  },
  {
   "cell_type": "code",
   "execution_count": 3,
   "metadata": {},
   "outputs": [],
   "source": [
    "class Dataset(data.Dataset):\n",
    "\n",
    "    def __init__(self,data,transform=None):\n",
    "        self.dataset=data # [path,label]のpdDF\n",
    "        self.transform = transform\n",
    "        \n",
    "    def __len__(self):\n",
    "        return self.dataset.shape[0]\n",
    "    \n",
    "    def __getitem__(self,idx):\n",
    "        \n",
    "        img = Image.open(self.dataset.iloc[idx][\"path\"]).convert(\"RGB\")\n",
    "        img = self.transform(img)\n",
    "        \n",
    "        return img,self.dataset.iloc[idx][\"label\"]"
   ]
  },
  {
   "cell_type": "code",
   "execution_count": 4,
   "metadata": {},
   "outputs": [],
   "source": [
    "transform = transforms.Compose([\n",
    "    transforms.Resize(256,Image.ANTIALIAS),\n",
    "    transforms.CenterCrop(224),\n",
    "    transforms.ToTensor(),\n",
    "    transforms.Normalize(mean=[0.485, 0.456, 0.406],\n",
    "                        std=[0.229, 0.224, 0.225])\n",
    "])\n",
    "labels = pd.read_csv(\"train_label.csv\",index_col=0)\n",
    "val = labels.iloc[:100]\n",
    "train = labels.iloc[100:]\n",
    "\n",
    "\n",
    "train_dataset = Dataset(train,transform)\n",
    "val_dataset = Dataset(val,transform)\n",
    "\n",
    "train_loader = torch.utils.data.DataLoader(train_dataset,batch_size=8,shuffle=True,num_workers=2)\n",
    "val_loader = torch.utils.data.DataLoader(val_dataset,batch_size=1,shuffle=False,num_workers=2)\n",
    "\n",
    "dataset_dict = {\"train\":train_dataset,\"test\":val_dataset}\n",
    "dataloaders_dict = {\"train\":train_loader,\"test\":val_loader}"
   ]
  },
  {
   "cell_type": "code",
   "execution_count": null,
   "metadata": {},
   "outputs": [],
   "source": [
    "arch = \"wide_resnet50_2\"\n",
    "\n",
    "device = torch.device(\"cuda\" if torch.cuda.is_available() else \"cpu\" )\n",
    "if arch == 'resnet18':\n",
    "    model = resnet18(pretrained=True, progress=True)\n",
    "    t_d = 448\n",
    "    d = 100\n",
    "elif arch == 'wide_resnet50_2':\n",
    "    model = wide_resnet50_2(pretrained=True, progress=True)\n",
    "    t_d = 1792\n",
    "    d = 550\n",
    "model.to(device)\n",
    "model.eval()"
   ]
  },
  {
   "cell_type": "code",
   "execution_count": 6,
   "metadata": {},
   "outputs": [],
   "source": [
    "idx = torch.tensor(sample(range(0, t_d), d)) # random dimension sampling \n",
    "outputs = []\n",
    "def hook(module, input, output):\n",
    "        outputs.append(output)"
   ]
  },
  {
   "cell_type": "code",
   "execution_count": 62,
   "metadata": {},
   "outputs": [
    {
     "data": {
      "text/plain": [
       "Sequential(\n",
       "  (0): Bottleneck(\n",
       "    (conv1): Conv2d(64, 128, kernel_size=(1, 1), stride=(1, 1), bias=False)\n",
       "    (bn1): BatchNorm2d(128, eps=1e-05, momentum=0.1, affine=True, track_running_stats=True)\n",
       "    (conv2): Conv2d(128, 128, kernel_size=(3, 3), stride=(1, 1), padding=(1, 1), bias=False)\n",
       "    (bn2): BatchNorm2d(128, eps=1e-05, momentum=0.1, affine=True, track_running_stats=True)\n",
       "    (conv3): Conv2d(128, 256, kernel_size=(1, 1), stride=(1, 1), bias=False)\n",
       "    (bn3): BatchNorm2d(256, eps=1e-05, momentum=0.1, affine=True, track_running_stats=True)\n",
       "    (relu): ReLU(inplace=True)\n",
       "    (downsample): Sequential(\n",
       "      (0): Conv2d(64, 256, kernel_size=(1, 1), stride=(1, 1), bias=False)\n",
       "      (1): BatchNorm2d(256, eps=1e-05, momentum=0.1, affine=True, track_running_stats=True)\n",
       "    )\n",
       "  )\n",
       "  (1): Bottleneck(\n",
       "    (conv1): Conv2d(256, 128, kernel_size=(1, 1), stride=(1, 1), bias=False)\n",
       "    (bn1): BatchNorm2d(128, eps=1e-05, momentum=0.1, affine=True, track_running_stats=True)\n",
       "    (conv2): Conv2d(128, 128, kernel_size=(3, 3), stride=(1, 1), padding=(1, 1), bias=False)\n",
       "    (bn2): BatchNorm2d(128, eps=1e-05, momentum=0.1, affine=True, track_running_stats=True)\n",
       "    (conv3): Conv2d(128, 256, kernel_size=(1, 1), stride=(1, 1), bias=False)\n",
       "    (bn3): BatchNorm2d(256, eps=1e-05, momentum=0.1, affine=True, track_running_stats=True)\n",
       "    (relu): ReLU(inplace=True)\n",
       "  )\n",
       "  (2): Bottleneck(\n",
       "    (conv1): Conv2d(256, 128, kernel_size=(1, 1), stride=(1, 1), bias=False)\n",
       "    (bn1): BatchNorm2d(128, eps=1e-05, momentum=0.1, affine=True, track_running_stats=True)\n",
       "    (conv2): Conv2d(128, 128, kernel_size=(3, 3), stride=(1, 1), padding=(1, 1), bias=False)\n",
       "    (bn2): BatchNorm2d(128, eps=1e-05, momentum=0.1, affine=True, track_running_stats=True)\n",
       "    (conv3): Conv2d(128, 256, kernel_size=(1, 1), stride=(1, 1), bias=False)\n",
       "    (bn3): BatchNorm2d(256, eps=1e-05, momentum=0.1, affine=True, track_running_stats=True)\n",
       "    (relu): ReLU(inplace=True)\n",
       "  )\n",
       ")"
      ]
     },
     "execution_count": 62,
     "metadata": {},
     "output_type": "execute_result"
    }
   ],
   "source": [
    "model.layer1"
   ]
  },
  {
   "cell_type": "code",
   "execution_count": 48,
   "metadata": {},
   "outputs": [
    {
     "data": {
      "text/plain": [
       "<torch.utils.hooks.RemovableHandle at 0x7f6c780f2550>"
      ]
     },
     "execution_count": 48,
     "metadata": {},
     "output_type": "execute_result"
    }
   ],
   "source": [
    "model.layer1[-1].register_forward_hook(hook)\n",
    "model.layer2[-1].register_forward_hook(hook)\n",
    "model.layer3[-1].register_forward_hook(hook)\n"
   ]
  },
  {
   "cell_type": "code",
   "execution_count": 55,
   "metadata": {},
   "outputs": [],
   "source": [
    "total_roc_auc = []\n",
    "train_outputs = OrderedDict([('layer1', []), ('layer2', []), ('layer3', [])])\n",
    "test_outputs = OrderedDict([('layer1', []), ('layer2', []), ('layer3', [])])"
   ]
  },
  {
   "cell_type": "code",
   "execution_count": 56,
   "metadata": {},
   "outputs": [
    {
     "name": "stderr",
     "output_type": "stream",
     "text": [
      "100%|██████████| 25/25 [00:04<00:00,  5.08it/s]\n"
     ]
    }
   ],
   "source": [
    "for input,label in tqdm(train_loader): \n",
    "    with torch.no_grad():\n",
    "        _ = model(input.to(device))\n",
    "    \n",
    "    for k,v in zip(train_outputs.keys(),outputs):\n",
    "        train_outputs[k].append(v.cpu().detach())\n",
    "    \n",
    "    outputs=[]\n",
    "\n",
    "for k,v in train_outputs.items():\n",
    "    train_outputs[k]=torch.cat(v,0)\n",
    "\n",
    "# Embedding concat\n",
    "embedding_vectors = train_outputs[\"layer1\"]\n",
    "for layer_name in [\"layer2\", \"layer3\"]:\n",
    "    embedding_vectors = embedding_concat(embedding_vectors,train_outputs[layer_name])"
   ]
  },
  {
   "cell_type": "code",
   "execution_count": 61,
   "metadata": {},
   "outputs": [
    {
     "data": {
      "text/plain": [
       "torch.Size([200, 512, 28, 28])"
      ]
     },
     "execution_count": 61,
     "metadata": {},
     "output_type": "execute_result"
    }
   ],
   "source": [
    "train_outputs[\"layer3\"].size()"
   ]
  },
  {
   "cell_type": "code",
   "execution_count": 19,
   "metadata": {},
   "outputs": [],
   "source": [
    "# randomly select d dimension\n",
    "embedding_vectors = torch.index_select(embedding_vectors, 1, idx)\n",
    "# calculate multivariate Gaussian distribution\n",
    "B,C,H,W = embedding_vectors.size()\n",
    "embedding_vectors = embedding_vectors.view(B,C,H*W)\n",
    "mean=torch.mean(embedding_vectors,dim=0).numpy()\n",
    "cov = torch.zeros(C,C,H*W).numpy()\n",
    "I  = np.identity(C)\n",
    "for i in range(H*W):\n",
    "    cov[:, :, i] = np.cov(embedding_vectors[:, :, i].numpy(), rowvar=False) + 0.01 * I\n",
    "# save learned distribution\n",
    "train_outputs = [mean, cov]\n",
    "with open(\"./data/train_feature.bin\", 'wb') as f:\n",
    "    pickle.dump(train_outputs, f)"
   ]
  },
  {
   "cell_type": "markdown",
   "metadata": {},
   "source": [
    "## Test"
   ]
  },
  {
   "cell_type": "code",
   "execution_count": 38,
   "metadata": {},
   "outputs": [
    {
     "data": {
      "text/plain": [
       "<Figure size 432x288 with 0 Axes>"
      ]
     },
     "metadata": {},
     "output_type": "display_data"
    }
   ],
   "source": [
    "fig = plt.figure()\n",
    "fig_img_rocauc = fig\n",
    "gt_list = []\n",
    "test_imgs = []\n",
    "test_outputs = OrderedDict([('layer1', []), ('layer2', []), ('layer3', [])])"
   ]
  },
  {
   "cell_type": "code",
   "execution_count": 39,
   "metadata": {},
   "outputs": [
    {
     "name": "stderr",
     "output_type": "stream",
     "text": [
      "100%|██████████| 100/100 [00:02<00:00, 39.37it/s]\n"
     ]
    }
   ],
   "source": [
    "for input,label in tqdm(val_loader):\n",
    "    test_imgs.extend(input.cpu().detach().numpy())\n",
    "    gt_list.extend(label.cpu().detach().numpy())\n",
    "    with torch.no_grad():\n",
    "        _ = model(input.to(device))\n",
    "    \n",
    "    for k,v in zip(test_outputs.keys(),outputs):\n",
    "        test_outputs[k].append(v.cpu().detach())\n",
    "    \n",
    "    outputs =[]\n",
    "    \n"
   ]
  },
  {
   "cell_type": "code",
   "execution_count": 65,
   "metadata": {},
   "outputs": [
    {
     "ename": "RuntimeError",
     "evalue": "There were no tensor arguments to this function (e.g., you passed an empty list of Tensors), but no fallback function is registered for schema aten::_cat.  This usually means that this function requires a non-empty list of Tensors.  Available functions are [CUDATensorId, CPUTensorId, VariableTensorId]",
     "output_type": "error",
     "traceback": [
      "\u001b[0;31m---------------------------------------------------------------------------\u001b[0m",
      "\u001b[0;31mRuntimeError\u001b[0m                              Traceback (most recent call last)",
      "\u001b[0;32m<ipython-input-65-cbe23228faca>\u001b[0m in \u001b[0;36m<module>\u001b[0;34m\u001b[0m\n\u001b[1;32m      1\u001b[0m \u001b[0;32mfor\u001b[0m \u001b[0mk\u001b[0m\u001b[0;34m,\u001b[0m\u001b[0mv\u001b[0m \u001b[0;32min\u001b[0m \u001b[0mtest_outputs\u001b[0m\u001b[0;34m.\u001b[0m\u001b[0mitems\u001b[0m\u001b[0;34m(\u001b[0m\u001b[0;34m)\u001b[0m\u001b[0;34m:\u001b[0m\u001b[0;34m\u001b[0m\u001b[0;34m\u001b[0m\u001b[0m\n\u001b[0;32m----> 2\u001b[0;31m     \u001b[0mtest_outputs\u001b[0m\u001b[0;34m[\u001b[0m\u001b[0mk\u001b[0m\u001b[0;34m]\u001b[0m \u001b[0;34m=\u001b[0m \u001b[0mtorch\u001b[0m\u001b[0;34m.\u001b[0m\u001b[0mcat\u001b[0m\u001b[0;34m(\u001b[0m\u001b[0mv\u001b[0m\u001b[0;34m,\u001b[0m\u001b[0;36m0\u001b[0m\u001b[0;34m)\u001b[0m\u001b[0;34m\u001b[0m\u001b[0;34m\u001b[0m\u001b[0m\n\u001b[0m\u001b[1;32m      3\u001b[0m \u001b[0;34m\u001b[0m\u001b[0m\n\u001b[1;32m      4\u001b[0m \u001b[0membedding_vectors\u001b[0m \u001b[0;34m=\u001b[0m \u001b[0mtest_outputs\u001b[0m\u001b[0;34m[\u001b[0m\u001b[0;34m\"layer1\"\u001b[0m\u001b[0;34m]\u001b[0m\u001b[0;34m\u001b[0m\u001b[0;34m\u001b[0m\u001b[0m\n\u001b[1;32m      5\u001b[0m \u001b[0;32mfor\u001b[0m \u001b[0mlayer_name\u001b[0m \u001b[0;32min\u001b[0m \u001b[0;34m[\u001b[0m\u001b[0;34m\"layer2\"\u001b[0m\u001b[0;34m,\u001b[0m\u001b[0;34m\"layer3\"\u001b[0m\u001b[0;34m]\u001b[0m\u001b[0;34m:\u001b[0m\u001b[0;34m\u001b[0m\u001b[0;34m\u001b[0m\u001b[0m\n",
      "\u001b[0;31mRuntimeError\u001b[0m: There were no tensor arguments to this function (e.g., you passed an empty list of Tensors), but no fallback function is registered for schema aten::_cat.  This usually means that this function requires a non-empty list of Tensors.  Available functions are [CUDATensorId, CPUTensorId, VariableTensorId]"
     ]
    }
   ],
   "source": [
    "for k,v in test_outputs.items():\n",
    "    test_outputs[k] = torch.cat(v,0)\n",
    "\n",
    "embedding_vectors = test_outputs[\"layer1\"]\n",
    "for layer_name in [\"layer2\",\"layer3\"]:\n",
    "    embedding_vectors = embedding_concat(embedding_vectors,test_outputs[layer_name])\n",
    "\n",
    "# randomly select d dimension\n",
    "embedding_vectors = torch.index_select(embedding_vectors,1,idx)\n",
    "\n",
    "B,C,H,W = embedding_vectors.size()\n",
    "embedding_vectors = embedding_vectors.view(B,C,H*W).numpy()\n",
    "dist_list=[]\n",
    "\n",
    "for i in range(H*W):\n",
    "    mean = train_outputs[0][:,i]\n",
    "    conv_inv = np.linalg.inv(train_outputs[1][:,:,i])\n",
    "    dist = [mahalanobis(sample[:,i],mean,conv_inv) for sample in embedding_vectors]\n",
    "    dist_list.append(dist)\n",
    "dist_list = np.array(dist_list).transpose(1, 0).reshape(B, H, W)\n",
    "\n",
    "# upsample\n",
    "dist_list = torch.tensor(dist_list)\n",
    "score_map = F.interpolate(dist_list.unsqueeze(1),size=input.size(2),mode=\"bilinear\",\n",
    "                            align_corners=False).squeeze().numpy()\n",
    "\n",
    "for i in range(score_map.shape[0]):\n",
    "    score_map[i] = gaussian_filter(score_map[i],sigma=4)\n",
    "\n",
    "max_score = score_map.max()\n",
    "min_score = score_map.min()\n",
    "scores = (score_map - min_score) / (max_score - min_score)\n",
    "\n",
    "# calculate image-level ROC AUC score\n",
    "img_scores = scores.reshape(scores.shape[0],-1).max(axis=1)\n",
    "gt_list = np.asarray(gt_list)\n",
    "fpr,tpr,_ = roc_curve(gt_list,img_scores)\n",
    "img_roc_auc = roc_auc_score(gt_list,img_scores)\n",
    "total_roc_auc.append(img_roc_auc)\n",
    "\n",
    "print('image ROCAUC: %.3f' % (img_roc_auc))\n",
    "#fig_img_rocauc.plot(fpr, tpr, label='img_ROCAUC: %.3f' % img_roc_auc)"
   ]
  },
  {
   "cell_type": "code",
   "execution_count": 45,
   "metadata": {},
   "outputs": [
    {
     "data": {
      "text/plain": [
       "Text(0.5, 1.0, 'ROCAUC')"
      ]
     },
     "execution_count": 45,
     "metadata": {},
     "output_type": "execute_result"
    },
    {
     "data": {
      "image/png": "[encoded data removed]",
      "text/plain": [
       "<Figure size 432x288 with 1 Axes>"
      ]
     },
     "metadata": {
      "needs_background": "light"
     },
     "output_type": "display_data"
    }
   ],
   "source": [
    "plt.plot(fpr,tpr)\n",
    "plt.title(\"ROCAUC\")"
   ]
  },
  {
   "cell_type": "markdown",
   "metadata": {},
   "source": [
    "## "
   ]
  },
  {
   "cell_type": "markdown",
   "metadata": {},
   "source": [
    "## Result Analyse"
   ]
  },
  {
   "cell_type": "code",
   "execution_count": 129,
   "metadata": {},
   "outputs": [
    {
     "data": {
      "text/plain": [
       "{'manipu': 0.7388073,\n",
       " 'sc_head': 0.6638798,\n",
       " 'sc_neck': 0.73967457,\n",
       " 'thread_side': 0.61221313,\n",
       " 'thread_top': 0.55795836}"
      ]
     },
     "execution_count": 129,
     "metadata": {},
     "output_type": "execute_result"
    }
   ],
   "source": [
    "error_dict = {\"manipu\":np.average(img_scores[:10]),\n",
    "            \"sc_head\":np.average(img_scores[10:20]),\n",
    "            \"sc_neck\":np.average(img_scores[20:30]),\n",
    "            \"thread_side\":np.average(img_scores[30:40]),\n",
    "            \"thread_top\":np.average(img_scores[40:])}\n",
    "\n",
    "error_dict"
   ]
  },
  {
   "cell_type": "code",
   "execution_count": 142,
   "metadata": {},
   "outputs": [
    {
     "data": {
      "image/png": "[encoded data removed]",
      "text/plain": [
       "<Figure size 432x288 with 1 Axes>"
      ]
     },
     "metadata": {
      "needs_background": "light"
     },
     "output_type": "display_data"
    }
   ],
   "source": [
    "plt.bar(error_dict.keys(),error_dict.values())\n",
    "plt.ylim([0.5,0.8])\n",
    "plt.title(\"Average score each error type\",fontsize=14)\n",
    "plt.ylabel(\"score\",fontsize=13)\n",
    "plt.savefig(\"Average score each error type\")"
   ]
  },
  {
   "cell_type": "code",
   "execution_count": 121,
   "metadata": {},
   "outputs": [
    {
     "name": "stdout",
     "output_type": "stream",
     "text": [
      "path     ../dataset/train/not-good/manipulated_front005...\n",
      "label                                                    1\n",
      "Name: 5, dtype: object\n"
     ]
    },
    {
     "data": {
      "image/png": "[encoded data removed]",
      "text/plain": [
       "<Figure size 432x288 with 1 Axes>"
      ]
     },
     "metadata": {
      "needs_background": "light"
     },
     "output_type": "display_data"
    }
   ],
   "source": [
    "i = 5\n",
    "print(labels.iloc[i])\n",
    "check_img = Image.open(val.iloc[i][\"path\"]).convert(\"RGB\")\n",
    "plt.imshow(check_img)\n",
    "#plt.imshow(val_dataset[6][0].numpy().transpose(1,2,0))\n",
    "plt.savefig(\"miss_class_manipfront_5\")"
   ]
  }
 ],
 "metadata": {
  "kernelspec": {
   "display_name": "Python 3.6.9 ('.venv': pipenv)",
   "language": "python",
   "name": "python3"
  },
  "language_info": {
   "codemirror_mode": {
    "name": "ipython",
    "version": 3
   },
   "file_extension": ".py",
   "mimetype": "text/x-python",
   "name": "python",
   "nbconvert_exporter": "python",
   "pygments_lexer": "ipython3",
   "version": "3.6.9"
  },
  "orig_nbformat": 4,
  "vscode": {
   "interpreter": {
    "hash": "0a39d6fb204c0120033f9cf2f5125cb4455b59ae42aed07a7dfdaf3f1d3d8c11"
   }
  }
 },
 "nbformat": 4,
 "nbformat_minor": 2
}
