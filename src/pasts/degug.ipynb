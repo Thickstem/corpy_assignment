{
 "cells": [
  {
   "cell_type": "code",
   "execution_count": 1,
   "metadata": {},
   "outputs": [
    {
     "name": "stderr",
     "output_type": "stream",
     "text": [
      "/home/ksuga/fiveprime/.venv/lib/python3.6/site-packages/tqdm/auto.py:22: TqdmWarning: IProgress not found. Please update jupyter and ipywidgets. See https://ipywidgets.readthedocs.io/en/stable/user_install.html\n",
      "  from .autonotebook import tqdm as notebook_tqdm\n"
     ]
    }
   ],
   "source": [
    "import os\n",
    "import sys \n",
    "import glob \n",
    "\n",
    "import numpy as np\n",
    "import pandas as pd\n",
    "from tqdm import tqdm\n",
    "\n",
    "import torch \n",
    "import torch.nn as nn \n",
    "import torch.utils.data as data\n",
    "import torch.nn.functional as F\n",
    "import torch.optim as optims\n",
    "from torchvision import models,transforms\n",
    "\n",
    "\n",
    "from pathlib import Path\n",
    "from PIL import Image\n",
    "from sklearn.metrics import confusion_matrix,accuracy_score\n",
    "import matplotlib.pyplot as plt\n",
    "import cv2\n",
    "\n",
    "#from dataset import Dataset"
   ]
  },
  {
   "cell_type": "code",
   "execution_count": 2,
   "metadata": {},
   "outputs": [],
   "source": [
    "class Dataset(data.Dataset):\n",
    "\n",
    "    def __init__(self,data,transform=None):\n",
    "        self.dataset=data # [path,label]のpdDF\n",
    "        self.transform = transform\n",
    "        \n",
    "    def __len__(self):\n",
    "        return self.dataset.shape[0]\n",
    "    \n",
    "    def __getitem__(self,idx):\n",
    "        \n",
    "        img = Image.open(self.dataset.iloc[idx][\"path\"])\n",
    "        img = img.convert(\"RGB\")\n",
    "        #img = cv2.imread(self.dataset.iloc[idx][\"path\"])\n",
    "        img = self.transform(img)\n",
    "\n",
    "        return img,self.dataset.iloc[idx][\"label\"]"
   ]
  },
  {
   "cell_type": "code",
   "execution_count": 3,
   "metadata": {},
   "outputs": [],
   "source": [
    "class CNN(nn.Module):\n",
    "    def __init__(self,num_classes):\n",
    "        super(CNN,self).__init__()\n",
    "        self.features = nn.Sequential(\n",
    "            nn.Conv2d(in_channels=3, out_channels=16, kernel_size=3, padding=1),\n",
    "            nn.ReLU(inplace=True),\n",
    "            nn.MaxPool2d(kernel_size=2),\n",
    "            nn.Conv2d(in_channels=16, out_channels=32, kernel_size=3, padding=1),\n",
    "            nn.ReLU(inplace=True),\n",
    "            nn.MaxPool2d(kernel_size=2),\n",
    "            nn.Conv2d(in_channels=32, out_channels=64, kernel_size=3, padding=1),\n",
    "            nn.ReLU(inplace=True),\n",
    "            nn.MaxPool2d(kernel_size=2)\n",
    "        )\n",
    "        self.fc1 = nn.Linear(in_features= 28 * 28 * 64, out_features=128)\n",
    "        self.classifier = nn.Linear(in_features=128,out_features=num_classes)\n",
    "    \n",
    "    def forward(self, x):\n",
    "        x = self.features(x)\n",
    "        x = x.view(x.size(0), -1)\n",
    "        #print(x.size())\n",
    "        x = self.fc1(x)\n",
    "        x = self.classifier(x)\n",
    "        return x"
   ]
  },
  {
   "cell_type": "code",
   "execution_count": 4,
   "metadata": {},
   "outputs": [],
   "source": [
    "path_label = pd.read_csv(\"binary_label.csv\",index_col=0)\n",
    "\n",
    "transform = transforms.Compose([\n",
    "    transforms.Resize(224),\n",
    "    transforms.CenterCrop(224),\n",
    "    transforms.ToTensor(),\n",
    "    transforms.Normalize(\n",
    "        mean=[0.485, 0.456, 0.406],\n",
    "        std=[0.229, 0.224, 0.225]\n",
    "    )\n",
    "])\n",
    "\n",
    "all_dataset = Dataset(path_label,transform)\n",
    "\n",
    "n_train = int(len(all_dataset)*0.8)\n",
    "n_val = len(all_dataset)-n_train\n",
    "\n",
    "train_dataset,val_dataset = data.random_split(all_dataset,[n_train,n_val])\n",
    "train_loader = torch.utils.data.DataLoader(train_dataset,batch_size=8,shuffle=True,num_workers=2)\n",
    "val_loader = torch.utils.data.DataLoader(val_dataset,batch_size=4,shuffle=False,num_workers=2)\n",
    "dataset_dict = {\"train\":train_dataset,\"val\":val_dataset}\n",
    "dataloaders_dict = {\"train\":train_loader,\"val\":val_loader}\n"
   ]
  },
  {
   "cell_type": "code",
   "execution_count": 5,
   "metadata": {},
   "outputs": [
    {
     "data": {
      "text/plain": [
       "'\\nmodel = models.vgg16(pretrained=True)\\nmodel.classifier[6] = nn.Linear(in_features=4096,out_features=2)\\nmodel = nn.DataParallel(model)\\n'"
      ]
     },
     "execution_count": 5,
     "metadata": {},
     "output_type": "execute_result"
    }
   ],
   "source": [
    "#model  = timm.create_model(\"resnet18d\",pretrained=True,num_classes=2)\n",
    "model = CNN(num_classes=2)\n",
    "#model = model.to(device)\n",
    "\"\"\"\n",
    "from efficientnet_pytorch import EfficientNet\n",
    "\n",
    "model_ft = EfficientNet.from_pretrained(\"efficientnet-b7\")\n",
    "num_ftrs = model_ft._fc.in_features #全結合層の名前は\"_fc\"となっています\n",
    "model_ft._fc = nn.Linear(num_ftrs, 2)\n",
    "model_ft.to(device)\n",
    "\"\"\"\n",
    "\"\"\"\n",
    "model = models.vgg16(pretrained=True)\n",
    "model.classifier[6] = nn.Linear(in_features=4096,out_features=2)\n",
    "model = nn.DataParallel(model)\n",
    "\"\"\""
   ]
  },
  {
   "cell_type": "code",
   "execution_count": 6,
   "metadata": {},
   "outputs": [],
   "source": [
    "device = torch.device(\"cuda\" if torch.cuda.is_available() else \"cpu\")\n",
    "model.to(device)\n",
    "criterion = torch.nn.CrossEntropyLoss()\n",
    "optimizer = torch.optim.Adam(model.parameters(),lr=0.001)"
   ]
  },
  {
   "cell_type": "code",
   "execution_count": 7,
   "metadata": {},
   "outputs": [
    {
     "name": "stderr",
     "output_type": "stream",
     "text": [
      "100%|██████████| 30/30 [00:03<00:00,  7.76it/s]\n",
      "100%|██████████| 15/15 [00:01<00:00, 13.13it/s]\n"
     ]
    },
    {
     "name": "stdout",
     "output_type": "stream",
     "text": [
      "epoch:0,phase:val Loss:2.0166213115056357, acc:0.8\n"
     ]
    },
    {
     "name": "stderr",
     "output_type": "stream",
     "text": [
      "100%|██████████| 30/30 [00:03<00:00,  7.87it/s]\n",
      "100%|██████████| 15/15 [00:01<00:00, 13.12it/s]\n"
     ]
    },
    {
     "name": "stdout",
     "output_type": "stream",
     "text": [
      "epoch:1,phase:val Loss:2.190684604644775, acc:0.8\n"
     ]
    },
    {
     "name": "stderr",
     "output_type": "stream",
     "text": [
      "100%|██████████| 30/30 [00:03<00:00,  8.09it/s]\n",
      "100%|██████████| 15/15 [00:01<00:00, 13.29it/s]\n"
     ]
    },
    {
     "name": "stdout",
     "output_type": "stream",
     "text": [
      "epoch:2,phase:val Loss:2.295062613487244, acc:0.8\n"
     ]
    },
    {
     "name": "stderr",
     "output_type": "stream",
     "text": [
      "100%|██████████| 30/30 [00:03<00:00,  7.67it/s]\n",
      "100%|██████████| 15/15 [00:01<00:00, 13.30it/s]\n"
     ]
    },
    {
     "name": "stdout",
     "output_type": "stream",
     "text": [
      "epoch:3,phase:val Loss:2.2323493401209515, acc:0.7833333333333333\n"
     ]
    },
    {
     "name": "stderr",
     "output_type": "stream",
     "text": [
      "100%|██████████| 30/30 [00:03<00:00,  7.93it/s]\n",
      "100%|██████████| 15/15 [00:01<00:00, 13.28it/s]\n"
     ]
    },
    {
     "name": "stdout",
     "output_type": "stream",
     "text": [
      "epoch:4,phase:val Loss:2.255431564648946, acc:0.8\n"
     ]
    },
    {
     "name": "stderr",
     "output_type": "stream",
     "text": [
      "100%|██████████| 30/30 [00:03<00:00,  7.99it/s]\n",
      "100%|██████████| 15/15 [00:01<00:00, 13.44it/s]\n"
     ]
    },
    {
     "name": "stdout",
     "output_type": "stream",
     "text": [
      "epoch:5,phase:val Loss:2.713891045252482, acc:0.75\n"
     ]
    },
    {
     "name": "stderr",
     "output_type": "stream",
     "text": [
      "100%|██████████| 30/30 [00:03<00:00,  7.90it/s]\n",
      "100%|██████████| 15/15 [00:01<00:00, 12.54it/s]"
     ]
    },
    {
     "name": "stdout",
     "output_type": "stream",
     "text": [
      "epoch:6,phase:val Loss:3.23238299091657, acc:0.7833333333333333\n"
     ]
    },
    {
     "name": "stderr",
     "output_type": "stream",
     "text": [
      "\n"
     ]
    }
   ],
   "source": [
    "n_epoch= 7\n",
    "train_loss = []\n",
    "val_loss =[]\n",
    "\n",
    "train_acc = []\n",
    "val_acc = []\n",
    "\n",
    "for epoch in range(n_epoch):\n",
    "    \n",
    "    for phase in [\"train\",\"val\"]:\n",
    "        if phase==\"train\":\n",
    "            model.train()\n",
    "        else:\n",
    "            model.eval()\n",
    "        \n",
    "        running_loss = 0.0\n",
    "        running_corrects = 0\n",
    "\n",
    "        for inputs,labels in tqdm(dataloaders_dict[phase]):\n",
    "            inputs = inputs.to(device)\n",
    "            labels = labels.to(device)\n",
    "\n",
    "            optimizer.zero_grad()\n",
    "\n",
    "            with torch.set_grad_enabled(phase==\"train\"):\n",
    "                outputs = model(inputs)\n",
    "                _,preds = torch.max(outputs,1)\n",
    "                loss = criterion(outputs,labels)\n",
    "                \n",
    "                if phase==\"train\":\n",
    "                    loss.backward()\n",
    "                    optimizer.step()\n",
    "            \n",
    "            running_loss+=loss.item()*inputs.size(0)\n",
    "            running_corrects +=torch.sum(preds==labels.data)\n",
    "            \n",
    "    \n",
    "        epoch_loss =running_loss /len(dataloaders_dict[phase])\n",
    "        epoch_acc = running_corrects.double() / len(dataset_dict[phase])\n",
    "        \n",
    "        if phase==\"train\":\n",
    "            train_loss.append(epoch_loss)\n",
    "            train_acc.append(epoch_acc)\n",
    "        else:\n",
    "            val_loss.append(epoch_loss)\n",
    "            val_acc.append(epoch_acc)\n",
    "            print(f\"epoch:{epoch},phase:{phase} Loss:{epoch_loss}, acc:{epoch_acc}\")\n",
    "\n",
    "\n",
    "    \n"
   ]
  },
  {
   "cell_type": "code",
   "execution_count": 13,
   "metadata": {},
   "outputs": [
    {
     "data": {
      "text/plain": [
       "Text(0, 0.5, 'Loss')"
      ]
     },
     "execution_count": 13,
     "metadata": {},
     "output_type": "execute_result"
    },
    {
     "data": {
      "image/png": "[encoded data removed]",
      "text/plain": [
       "<Figure size 432x288 with 1 Axes>"
      ]
     },
     "metadata": {
      "needs_background": "light"
     },
     "output_type": "display_data"
    }
   ],
   "source": [
    "plt.plot(np.arange(1,n_epoch+1),train_loss,label=\"train\")\n",
    "plt.plot(np.arange(1,n_epoch+1),val_loss,label=\"val\")\n",
    "plt.legend()\n",
    "plt.title(\"loss\")\n",
    "plt.xlabel(\"epoch\")\n",
    "plt.ylabel(\"Loss\")"
   ]
  },
  {
   "cell_type": "code",
   "execution_count": 15,
   "metadata": {},
   "outputs": [
    {
     "data": {
      "text/plain": [
       "Text(0, 0.5, 'acc')"
      ]
     },
     "execution_count": 15,
     "metadata": {},
     "output_type": "execute_result"
    },
    {
     "data": {
      "image/png": "[encoded data removed]",
      "text/plain": [
       "<Figure size 432x288 with 1 Axes>"
      ]
     },
     "metadata": {
      "needs_background": "light"
     },
     "output_type": "display_data"
    }
   ],
   "source": [
    "plt.plot(np.arange(1,n_epoch+1),train_acc,label=\"train\")\n",
    "plt.plot(np.arange(1,n_epoch+1),val_acc,label=\"val\")\n",
    "plt.legend()\n",
    "plt.title(\"Acc\")\n",
    "plt.xlabel(\"epoch\")\n",
    "plt.ylabel(\"acc\")"
   ]
  },
  {
   "cell_type": "code",
   "execution_count": null,
   "metadata": {},
   "outputs": [],
   "source": []
  }
 ],
 "metadata": {
  "kernelspec": {
   "display_name": "Python 3.6.9 ('.venv': pipenv)",
   "language": "python",
   "name": "python3"
  },
  "language_info": {
   "codemirror_mode": {
    "name": "ipython",
    "version": 3
   },
   "file_extension": ".py",
   "mimetype": "text/x-python",
   "name": "python",
   "nbconvert_exporter": "python",
   "pygments_lexer": "ipython3",
   "version": "3.6.9"
  },
  "orig_nbformat": 4,
  "vscode": {
   "interpreter": {
    "hash": "0a39d6fb204c0120033f9cf2f5125cb4455b59ae42aed07a7dfdaf3f1d3d8c11"
   }
  }
 },
 "nbformat": 4,
 "nbformat_minor": 2
}
